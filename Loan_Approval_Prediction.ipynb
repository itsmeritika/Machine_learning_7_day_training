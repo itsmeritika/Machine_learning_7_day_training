{
  "nbformat": 4,
  "nbformat_minor": 0,
  "metadata": {
    "colab": {
      "provenance": [],
      "authorship_tag": "ABX9TyOSKt5rzFiOu6FmcN1438eM",
      "include_colab_link": true
    },
    "kernelspec": {
      "name": "python3",
      "display_name": "Python 3"
    },
    "language_info": {
      "name": "python"
    }
  },
  "cells": [
    {
      "cell_type": "markdown",
      "metadata": {
        "id": "view-in-github",
        "colab_type": "text"
      },
      "source": [
        "<a href=\"https://colab.research.google.com/github/itsmeritika/Machine_learning_7_day_training/blob/main/Loan_Approval_Prediction.ipynb\" target=\"_parent\"><img src=\"https://colab.research.google.com/assets/colab-badge.svg\" alt=\"Open In Colab\"/></a>"
      ]
    },
    {
      "cell_type": "code",
      "execution_count": null,
      "metadata": {
        "id": "MeM8ms2b9vAr"
      },
      "outputs": [],
      "source": [
        "import pandas as pd"
      ]
    },
    {
      "cell_type": "code",
      "source": [
        "df = pd.read_csv('/content/train.csv')"
      ],
      "metadata": {
        "id": "Ztk0O7sCBA_B"
      },
      "execution_count": null,
      "outputs": []
    },
    {
      "cell_type": "code",
      "source": [
        "train = df.copy()\n"
      ],
      "metadata": {
        "id": "hrX3sjtfBBCW"
      },
      "execution_count": null,
      "outputs": []
    },
    {
      "cell_type": "code",
      "source": [
        "train.columns"
      ],
      "metadata": {
        "id": "rDowNFYtBBKL"
      },
      "execution_count": null,
      "outputs": []
    },
    {
      "cell_type": "code",
      "source": [
        "train.dtypes"
      ],
      "metadata": {
        "id": "Jh7-5vfaBBNV"
      },
      "execution_count": null,
      "outputs": []
    },
    {
      "cell_type": "code",
      "source": [
        "train.shape"
      ],
      "metadata": {
        "id": "ojzPm5iFBBQW"
      },
      "execution_count": null,
      "outputs": []
    },
    {
      "cell_type": "code",
      "source": [
        "train['loan_status'].value_counts()"
      ],
      "metadata": {
        "id": "pHv1kphLBBUD"
      },
      "execution_count": null,
      "outputs": []
    },
    {
      "cell_type": "code",
      "source": [
        "train['loan_status'].value_counts(normalize=True)"
      ],
      "metadata": {
        "id": "jBj7i1j-BBXu"
      },
      "execution_count": null,
      "outputs": []
    },
    {
      "cell_type": "code",
      "source": [
        "train['loan_status'].value_counts().plot.bar()"
      ],
      "metadata": {
        "id": "SY0_cLOIBBbV"
      },
      "execution_count": null,
      "outputs": []
    },
    {
      "cell_type": "code",
      "source": [
        "categorical_df = train.select_dtypes(include='object')\n",
        "categorical_df.columns"
      ],
      "metadata": {
        "id": "iXcNF1m-CkPg"
      },
      "execution_count": null,
      "outputs": []
    },
    {
      "cell_type": "code",
      "source": [
        "train['cb_person_default_on_file'].value_counts()"
      ],
      "metadata": {
        "id": "9RPgFDnJCkS8"
      },
      "execution_count": null,
      "outputs": []
    },
    {
      "cell_type": "code",
      "source": [
        "import seaborn as sns\n",
        "import matplotlib.pyplot as plt\n",
        "sns.distplot(train['person_income'])"
      ],
      "metadata": {
        "id": "rofY86gbCkcs"
      },
      "execution_count": null,
      "outputs": []
    },
    {
      "cell_type": "code",
      "source": [
        "import numpy as np\n",
        "\n",
        "train['person_income_log'] = np.log(train['person_income'])\n"
      ],
      "metadata": {
        "id": "UJ_l5t-DNFVk"
      },
      "execution_count": null,
      "outputs": []
    },
    {
      "cell_type": "code",
      "source": [
        "sns.distplot(train['person_age'])"
      ],
      "metadata": {
        "id": "ByHcxfKNCkf7"
      },
      "execution_count": null,
      "outputs": []
    },
    {
      "cell_type": "code",
      "source": [
        "import numpy as np\n"
      ],
      "metadata": {
        "id": "y3ceR6orCkja"
      },
      "execution_count": null,
      "outputs": []
    },
    {
      "cell_type": "code",
      "source": [
        "train.columns"
      ],
      "metadata": {
        "id": "jKZ33XBQEmkp"
      },
      "execution_count": null,
      "outputs": []
    },
    {
      "cell_type": "code",
      "source": [
        "train['id'].value_counts()"
      ],
      "metadata": {
        "id": "EGQPNYl7Emnc"
      },
      "execution_count": null,
      "outputs": []
    },
    {
      "cell_type": "code",
      "source": [
        "train.drop('id', axis=1, inplace=True)\n",
        "train.drop('person_income', axis=1, inplace=True)\n"
      ],
      "metadata": {
        "id": "BLdZFwsBEmp4"
      },
      "execution_count": null,
      "outputs": []
    },
    {
      "cell_type": "code",
      "source": [
        "train.columns"
      ],
      "metadata": {
        "id": "LFxz9Mu0EmtV"
      },
      "execution_count": null,
      "outputs": []
    },
    {
      "cell_type": "code",
      "source": [
        "Grade = pd.crosstab(train['loan_grade'], train['loan_status'])\n",
        "Grade\n"
      ],
      "metadata": {
        "id": "LBT60mHOGLi0"
      },
      "execution_count": null,
      "outputs": []
    },
    {
      "cell_type": "code",
      "source": [
        "Grade.plot(kind='bar', stacked=True, figsize=(10,5))"
      ],
      "metadata": {
        "id": "putrbTQ9GLvX"
      },
      "execution_count": null,
      "outputs": []
    },
    {
      "cell_type": "code",
      "source": [
        "numeric_df = train.select_dtypes(include=['number'])\n",
        "numeric_df.columns"
      ],
      "metadata": {
        "id": "gVMUyCM4GLye"
      },
      "execution_count": null,
      "outputs": []
    },
    {
      "cell_type": "code",
      "source": [
        "mat = numeric_df.corr()\n",
        "sns.heatmap(mat, annot=True, cmap='coolwarm')\n",
        "plt.show()"
      ],
      "metadata": {
        "id": "c2Yo5JNiGL1R"
      },
      "execution_count": null,
      "outputs": []
    },
    {
      "cell_type": "code",
      "source": [
        "train.isnull().sum()"
      ],
      "metadata": {
        "id": "jgmB2LcIGL7v"
      },
      "execution_count": null,
      "outputs": []
    },
    {
      "cell_type": "code",
      "source": [
        "X = train.drop('loan_status', axis=1)\n",
        "y = train.loan_status"
      ],
      "metadata": {
        "id": "pYs3Ra-tGL_P"
      },
      "execution_count": null,
      "outputs": []
    },
    {
      "cell_type": "code",
      "source": [
        "cat_col = list(categorical_df.columns)\n",
        "cat_col"
      ],
      "metadata": {
        "id": "A5FQeiYdJgoq"
      },
      "execution_count": null,
      "outputs": []
    },
    {
      "cell_type": "code",
      "source": [
        "from sklearn.preprocessing import LabelEncoder\n",
        "encoder = LabelEncoder()\n",
        "for col in cat_col:\n",
        "  X[col] = encoder.fit_transform(X[col])"
      ],
      "metadata": {
        "id": "vrOHdf0JJgzx"
      },
      "execution_count": null,
      "outputs": []
    },
    {
      "cell_type": "code",
      "source": [
        "X.dtypes"
      ],
      "metadata": {
        "id": "fpV8jGx6Jg2d"
      },
      "execution_count": null,
      "outputs": []
    },
    {
      "cell_type": "code",
      "source": [
        "from sklearn.model_selection import train_test_split\n",
        "X_train, X_test, y_train, y_test = train_test_split(X, y, test_size=0.2, random_state=42)"
      ],
      "metadata": {
        "id": "Ad_IHRK9Jg5t"
      },
      "execution_count": null,
      "outputs": []
    },
    {
      "cell_type": "code",
      "source": [
        "from sklearn.linear_model import LogisticRegression\n",
        "model = LogisticRegression()\n",
        "model_fr = LogisticRegression()\n",
        "model.fit(X_train, y_train)"
      ],
      "metadata": {
        "id": "nJRJSTlSJg8-"
      },
      "execution_count": null,
      "outputs": []
    },
    {
      "cell_type": "code",
      "source": [
        "from sklearn.metrics import accuracy_score\n",
        "y_pred = model.predict(X_test)\n",
        "accuracy_score(y_test, y_pred)"
      ],
      "metadata": {
        "id": "nprR3-ulJhAg"
      },
      "execution_count": null,
      "outputs": []
    },
    {
      "cell_type": "code",
      "source": [
        "X_train.columns"
      ],
      "metadata": {
        "id": "guXFGppDL4Sn"
      },
      "execution_count": null,
      "outputs": []
    },
    {
      "cell_type": "code",
      "source": [
        "temp_X = X_train[['person_home_ownership',\n",
        "       'loan_intent', 'loan_grade', 'loan_int_rate',\n",
        "       'loan_percent_income', 'cb_person_default_on_file', 'person_income_log']]\n"
      ],
      "metadata": {
        "id": "Imdv6wZ-LnEX"
      },
      "execution_count": null,
      "outputs": []
    },
    {
      "cell_type": "code",
      "source": [
        "fet_model = LogisticRegression()\n",
        "fet_model.fit(temp_X, y_train)"
      ],
      "metadata": {
        "id": "kEex8eJ5LnHH"
      },
      "execution_count": null,
      "outputs": []
    },
    {
      "cell_type": "code",
      "source": [
        "temp_test = X_test[['person_home_ownership',\n",
        "       'loan_intent', 'loan_grade', 'loan_int_rate',\n",
        "       'loan_percent_income', 'cb_person_default_on_file', 'person_income_log']]"
      ],
      "metadata": {
        "id": "rD2cJ07QLnJy"
      },
      "execution_count": null,
      "outputs": []
    },
    {
      "cell_type": "code",
      "source": [
        "fet_pred = fet_model.predict(temp_test)\n",
        "accuracy_score(y_test, fet_pred)"
      ],
      "metadata": {
        "id": "dSbERrOOLnMt"
      },
      "execution_count": null,
      "outputs": []
    },
    {
      "cell_type": "code",
      "source": [
        "param_grid_lr = {'C': [0.01, 0.1, 1, 10],\n",
        "                 'penalty': ['l1', 'l2'],\n",
        "                 'solver': ['liblinear']}"
      ],
      "metadata": {
        "id": "GC2tZRTPLnQH"
      },
      "execution_count": null,
      "outputs": []
    },
    {
      "cell_type": "code",
      "source": [
        "from sklearn.model_selection import GridSearchCV\n",
        "\n",
        "grid_search = GridSearchCV(fet_model, param_grid_lr, cv=5, scoring='accuracy')\n",
        "grid_search.fit(temp_X, y_train)\n",
        "\n",
        "print('Best Parameters:',grid_search.best_params_)\n",
        "print('Best Score:',grid_search.best_score_)\n"
      ],
      "metadata": {
        "colab": {
          "base_uri": "https://localhost:8080/"
        },
        "id": "kj0Lg_JqQUro",
        "outputId": "59967526-972a-4bdd-f73e-b43d1d594292"
      },
      "execution_count": 129,
      "outputs": [
        {
          "output_type": "stream",
          "name": "stdout",
          "text": [
            "Best Parameters: {'C': 0.1, 'penalty': 'l1', 'solver': 'liblinear'}\n",
            "Best Score: 0.8946414762727282\n"
          ]
        }
      ]
    },
    {
      "cell_type": "code",
      "source": [
        "best_model = grid_search.best_estimator_\n",
        "pred = best_model.predict(temp_test)\n",
        "accuracy_score(y_test, pred)"
      ],
      "metadata": {
        "colab": {
          "base_uri": "https://localhost:8080/"
        },
        "id": "sa8bJtUAP5lH",
        "outputId": "647a3acb-c723-46d7-a17b-7feb60267e40"
      },
      "execution_count": 130,
      "outputs": [
        {
          "output_type": "execute_result",
          "data": {
            "text/plain": [
              "0.89913888652059"
            ]
          },
          "metadata": {},
          "execution_count": 130
        }
      ]
    },
    {
      "cell_type": "code",
      "source": [
        "import joblib\n",
        "joblib.dump(best_model, 'best_model.pkl')"
      ],
      "metadata": {
        "colab": {
          "base_uri": "https://localhost:8080/"
        },
        "id": "LwipwOZMP5ze",
        "outputId": "e2447d69-72d3-487c-9f9e-21c454a59f7d"
      },
      "execution_count": 131,
      "outputs": [
        {
          "output_type": "execute_result",
          "data": {
            "text/plain": [
              "['best_model.pkl']"
            ]
          },
          "metadata": {},
          "execution_count": 131
        }
      ]
    },
    {
      "cell_type": "code",
      "source": [
        "best_model1 = joblib.load('best_model.pkl')\n",
        "pred = best_model1.predict(temp_test)\n",
        "accuracy_score(y_test, pred)"
      ],
      "metadata": {
        "colab": {
          "base_uri": "https://localhost:8080/"
        },
        "id": "dGQW66VMP528",
        "outputId": "8e75a0dd-1650-4304-be68-c00e48fb0474"
      },
      "execution_count": 132,
      "outputs": [
        {
          "output_type": "execute_result",
          "data": {
            "text/plain": [
              "0.89913888652059"
            ]
          },
          "metadata": {},
          "execution_count": 132
        }
      ]
    }
  ]
}